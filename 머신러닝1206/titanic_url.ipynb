{
 "cells": [
  {
   "cell_type": "code",
   "execution_count": null,
   "id": "ad148df1",
   "metadata": {},
   "outputs": [],
   "source": [
    "# null 값이 없게 데이터 전처리를 해주어야 한다 ==>\n",
    "# 훈련데이터와 테스트데이터의 차이 = null값을 없애준다, 너무 긴 Name값을 encoding시켜준다"
   ]
  },
  {
   "cell_type": "code",
   "execution_count": 2,
   "id": "1e4a4e2a",
   "metadata": {},
   "outputs": [
    {
     "name": "stdout",
     "output_type": "stream",
     "text": [
      "   pclass  survived  ...   body                        home.dest\n",
      "0       1         1  ...    NaN                     St Louis, MO\n",
      "1       1         1  ...    NaN  Montreal, PQ / Chesterville, ON\n",
      "2       1         0  ...    NaN  Montreal, PQ / Chesterville, ON\n",
      "3       1         0  ...  135.0  Montreal, PQ / Chesterville, ON\n",
      "4       1         0  ...    NaN  Montreal, PQ / Chesterville, ON\n",
      "\n",
      "[5 rows x 14 columns]\n",
      "\n",
      "<class 'pandas.core.frame.DataFrame'>\n",
      "RangeIndex: 1309 entries, 0 to 1308\n",
      "Data columns (total 14 columns):\n",
      " #   Column     Non-Null Count  Dtype  \n",
      "---  ------     --------------  -----  \n",
      " 0   pclass     1309 non-null   int64  \n",
      " 1   survived   1309 non-null   int64  \n",
      " 2   name       1309 non-null   object \n",
      " 3   sex        1309 non-null   object \n",
      " 4   age        1046 non-null   float64\n",
      " 5   sibsp      1309 non-null   int64  \n",
      " 6   parch      1309 non-null   int64  \n",
      " 7   ticket     1309 non-null   object \n",
      " 8   fare       1308 non-null   float64\n",
      " 9   cabin      295 non-null    object \n",
      " 10  embarked   1307 non-null   object \n",
      " 11  boat       486 non-null    object \n",
      " 12  body       121 non-null    float64\n",
      " 13  home.dest  745 non-null    object \n",
      "dtypes: float64(3), int64(4), object(7)\n",
      "memory usage: 143.3+ KB\n",
      "None\n",
      "\n"
     ]
    }
   ],
   "source": [
    "import pandas as pd\n",
    "import numpy as np\n",
    "import time\n",
    "\n",
    "# pip install xlrd\n",
    "titanic = pd.read_excel('https://github.com/hmkim312/datas/blob/main/titanic/titanic.xls?raw=true')\n",
    "print(titanic.head())\n",
    "print()\n",
    "print(titanic.info())\n",
    "# pclass  survived  name  sex   age   cabin  embarked  boat   body  home.dest\n",
    "print()"
   ]
  },
  {
   "cell_type": "code",
   "execution_count": null,
   "id": "f0506148",
   "metadata": {},
   "outputs": [],
   "source": []
  }
 ],
 "metadata": {
  "kernelspec": {
   "display_name": "Python 3 (ipykernel)",
   "language": "python",
   "name": "python3"
  },
  "language_info": {
   "codemirror_mode": {
    "name": "ipython",
    "version": 3
   },
   "file_extension": ".py",
   "mimetype": "text/x-python",
   "name": "python",
   "nbconvert_exporter": "python",
   "pygments_lexer": "ipython3",
   "version": "3.11.5"
  }
 },
 "nbformat": 4,
 "nbformat_minor": 5
}
